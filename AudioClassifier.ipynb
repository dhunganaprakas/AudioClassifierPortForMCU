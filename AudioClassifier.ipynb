{
  "cells": [
    {
      "cell_type": "code",
      "execution_count": 65,
      "metadata": {
        "id": "_Tw5q5AD0o4N"
      },
      "outputs": [],
      "source": [
        "import os\n",
        "import numpy as np\n",
        "import tensorflow as tf\n",
        "from scipy.io import wavfile\n",
        "import matplotlib.pyplot as plt\n",
        "\n",
        "import librosa\n",
        "import random\n",
        "np.random.seed(0)\n",
        "\n",
        "from keras.models import Sequential\n",
        "from keras.layers import Conv2D, MaxPooling2D, MaxPool1D\n",
        "from keras.layers import Flatten, Dropout\n",
        "from keras.layers import Dense\n",
        "from tensorflow.keras.optimizers import Adam\n",
        "from keras.utils.np_utils import to_categorical"
      ]
    },
    {
      "cell_type": "code",
      "execution_count": 66,
      "metadata": {
        "colab": {
          "base_uri": "https://localhost:8080/",
          "height": 35
        },
        "id": "zOSu4L-m0xAJ",
        "outputId": "e9b0fdb1-b8ac-49a2-87bd-4a1de494f38e"
      },
      "outputs": [
        {
          "data": {
            "application/vnd.google.colaboratory.intrinsic+json": {
              "type": "string"
            },
            "text/plain": [
              "'./data/mini_speech_commands.zip'"
            ]
          },
          "execution_count": 66,
          "metadata": {},
          "output_type": "execute_result"
        }
      ],
      "source": [
        "tf.keras.utils.get_file(\n",
        "      'mini_speech_commands.zip',\n",
        "      origin=\"http://storage.googleapis.com/download.tensorflow.org/data/mini_speech_commands.zip\",\n",
        "      extract=True,\n",
        "      cache_dir='.', cache_subdir='data')"
      ]
    },
    {
      "cell_type": "code",
      "execution_count": 67,
      "metadata": {
        "id": "zZqQ1oCG0yv-"
      },
      "outputs": [],
      "source": [
        "!rm -rf data_set/\n",
        "!unzip -q data/mini_speech_commands.zip -d data_set/ "
      ]
    },
    {
      "cell_type": "code",
      "execution_count": 68,
      "metadata": {
        "id": "W_dMMdd-00GO"
      },
      "outputs": [],
      "source": [
        "yes_ds_dir = 'data_set/mini_speech_commands/yes/'\n",
        "no_ds_dir = 'data_set/mini_speech_commands/no/'\n",
        "yes_wav = [f for f in os.listdir(yes_ds_dir) if f.endswith('.wav')]\n",
        "no_wav = [f for f in os.listdir(no_ds_dir) if f.endswith('.wav')]\n",
        "files_yes = []\n",
        "files_no = []\n",
        "\n",
        "for i in range(1000):\n",
        "  files_yes.append(os.path.join(yes_ds_dir, yes_wav[i]))\n",
        "\n",
        "for i in range(1000):\n",
        "  files_no.append(os.path.join(no_ds_dir, no_wav[i]))"
      ]
    },
    {
      "cell_type": "code",
      "execution_count": 69,
      "metadata": {
        "id": "2LiW3n7H4y6n"
      },
      "outputs": [],
      "source": [
        "def model_maxpool(input_arr):\n",
        "  input_arr =  input_arr.reshape(1, 725, 44) \n",
        "  max_pool = MaxPool1D(pool_size = 5, strides = 10)\n",
        "  model = Sequential([max_pool]) \n",
        "  output = model.predict(input_arr)\n",
        "  output = np.squeeze(output)\n",
        "  return output "
      ]
    },
    {
      "cell_type": "code",
      "execution_count": 70,
      "metadata": {
        "id": "026cTv3-01uV"
      },
      "outputs": [],
      "source": [
        "dataset = []\n",
        "label = []\n",
        "yes_label = 1\n",
        "no_label = 0\n",
        "\n",
        "for i in range(len(files_yes)):\n",
        "#for i in range(1):\n",
        "  data, sr = librosa.load(files_yes[i])\n",
        "  S = np.abs(librosa.stft(data))\n",
        "  #print(type(S))\n",
        "  if (S.shape)==(1025,44):\n",
        "    S = S[:725,:]\n",
        "    max_pool = model_maxpool(S)\n",
        "    dataset.append(max_pool)\n",
        "    label.append(yes_label)\n",
        "\n",
        "for i in range(len(files_yes)):\n",
        "#for i in range(1):\n",
        "  data, sr = librosa.load(files_no[i])\n",
        "  S = np.abs(librosa.stft(data))\n",
        "  if (S.shape)==(1025,44):\n",
        "    S = S[:725,:]\n",
        "    max_pool = model_maxpool(S)\n",
        "    #print(max_pool.shape)\n",
        "    dataset.append(max_pool)\n",
        "    label.append(no_label)"
      ]
    },
    {
      "cell_type": "code",
      "execution_count": 71,
      "metadata": {
        "colab": {
          "base_uri": "https://localhost:8080/"
        },
        "id": "0f4r3ncu03p9",
        "outputId": "cecb4b9a-52aa-43bd-bf9a-c66bc163e793"
      },
      "outputs": [
        {
          "name": "stdout",
          "output_type": "stream",
          "text": [
            "(1788, 73, 44)\n",
            "(1788,)\n"
          ]
        }
      ],
      "source": [
        "dataset = np.asarray(dataset)\n",
        "label = np.asarray(label)"
      ]
    },
    {
      "cell_type": "code",
      "execution_count": 72,
      "metadata": {
        "colab": {
          "base_uri": "https://localhost:8080/"
        },
        "id": "ADc_9rZMJY-X",
        "outputId": "95407604-1db6-4b89-9127-7a53cb34c5ee"
      },
      "outputs": [
        {
          "name": "stdout",
          "output_type": "stream",
          "text": [
            "(50, 73, 44)\n",
            "(50, 73, 44)\n",
            "(1688, 73, 44)\n",
            "(1688,)\n"
          ]
        }
      ],
      "source": [
        "test_data_yes =  dataset[0:50, :, :]\n",
        "test_label_yes =  dataset[0:50]\n",
        "\n",
        "X_train = dataset[50:1738, :, :]\n",
        "y_train = label[50:1738] \n",
        "\n",
        "test_data_no = dataset[1738:1788, :, :]\n",
        "test_label_no =  dataset[1738:1788]"
      ]
    },
    {
      "cell_type": "code",
      "execution_count": 73,
      "metadata": {
        "id": "xEcHae5R08C-"
      },
      "outputs": [],
      "source": [
        "assert(X_train.shape[0] == y_train.shape[0]), \"The number of images is not equal to the number of labels.\"\n",
        "assert(X_train.shape[1:] == (73,44)), \"The dimensions of the images are not as expected\""
      ]
    },
    {
      "cell_type": "code",
      "execution_count": 75,
      "metadata": {
        "id": "cfvvsh3c1BNd"
      },
      "outputs": [],
      "source": [
        "def create_model():\n",
        "    model = Sequential()\n",
        "    model.add(Conv2D(1, kernel_size=(5,5),input_shape=(73, 44, 1), activation='elu'))\n",
        "    model.add(Conv2D(1, kernel_size=(5,5), activation='elu'))\n",
        "    model.add(Conv2D(1, kernel_size=(5,5), activation='elu'))\n",
        "    model.add(Conv2D(1, kernel_size=(5,5), activation='elu'))\n",
        "    model.add(Conv2D(1, kernel_size=(5,5), activation='elu'))\n",
        "    model.add(MaxPooling2D(pool_size=(5, 2)))\n",
        "    model.add(Flatten())\n",
        "    model.add(Dense(1, activation='elu'))\n",
        "    model.add(Dense(1, activation='sigmoid'))\n",
        "    model.compile(Adam(learning_rate=0.001),  loss='binary_crossentropy', metrics=['accuracy'])\n",
        "    return model"
      ]
    },
    {
      "cell_type": "code",
      "execution_count": 76,
      "metadata": {
        "colab": {
          "base_uri": "https://localhost:8080/"
        },
        "id": "-SvGsYri1DRm",
        "outputId": "80de3bae-f59a-4002-fadd-fceb670c7187"
      },
      "outputs": [
        {
          "name": "stdout",
          "output_type": "stream",
          "text": [
            "Model: \"sequential_3578\"\n",
            "_________________________________________________________________\n",
            " Layer (type)                Output Shape              Param #   \n",
            "=================================================================\n",
            " conv2d_10 (Conv2D)          (None, 69, 40, 1)         26        \n",
            "                                                                 \n",
            " conv2d_11 (Conv2D)          (None, 65, 36, 1)         26        \n",
            "                                                                 \n",
            " conv2d_12 (Conv2D)          (None, 61, 32, 1)         26        \n",
            "                                                                 \n",
            " conv2d_13 (Conv2D)          (None, 57, 28, 1)         26        \n",
            "                                                                 \n",
            " conv2d_14 (Conv2D)          (None, 53, 24, 1)         26        \n",
            "                                                                 \n",
            " max_pooling2d_2 (MaxPooling  (None, 10, 12, 1)        0         \n",
            " 2D)                                                             \n",
            "                                                                 \n",
            " flatten_2 (Flatten)         (None, 120)               0         \n",
            "                                                                 \n",
            " dense_4 (Dense)             (None, 1)                 121       \n",
            "                                                                 \n",
            " dense_5 (Dense)             (None, 1)                 2         \n",
            "                                                                 \n",
            "=================================================================\n",
            "Total params: 253\n",
            "Trainable params: 253\n",
            "Non-trainable params: 0\n",
            "_________________________________________________________________\n",
            "None\n"
          ]
        }
      ],
      "source": [
        "model = create_model()\n",
        "print(model.summary())"
      ]
    },
    {
      "cell_type": "code",
      "execution_count": 77,
      "metadata": {
        "colab": {
          "base_uri": "https://localhost:8080/",
          "height": 1000
        },
        "id": "aLnF8jAa78JJ",
        "outputId": "2fd8759f-685f-45df-d0c6-f561720ae5b6"
      },
      "outputs": [
        {
          "data": {
            "image/png": "[encoded data removed]",
            "text/plain": [
              "<IPython.core.display.Image object>"
            ]
          },
          "execution_count": 77,
          "metadata": {},
          "output_type": "execute_result"
        }
      ],
      "source": [
        "tf.keras.utils.plot_model(model, show_shapes=True)"
      ]
    },
    {
      "cell_type": "code",
      "execution_count": 78,
      "metadata": {
        "colab": {
          "base_uri": "https://localhost:8080/"
        },
        "id": "ibpIUJAW1E99",
        "outputId": "60555333-8343-40a0-d184-cecdcb9ed30d"
      },
      "outputs": [
        {
          "name": "stdout",
          "output_type": "stream",
          "text": [
            "Epoch 1/25\n",
            "113/113 [==============================] - 1s 7ms/step - loss: 0.6865 - accuracy: 0.6156 - val_loss: 0.7309 - val_accuracy: 0.0385\n",
            "Epoch 2/25\n",
            "113/113 [==============================] - 1s 6ms/step - loss: 0.5840 - accuracy: 0.8519 - val_loss: 0.4399 - val_accuracy: 0.8107\n",
            "Epoch 3/25\n",
            "113/113 [==============================] - 1s 5ms/step - loss: 0.4879 - accuracy: 0.8837 - val_loss: 0.3279 - val_accuracy: 0.8757\n",
            "Epoch 4/25\n",
            "113/113 [==============================] - 1s 5ms/step - loss: 0.4356 - accuracy: 0.8956 - val_loss: 0.3385 - val_accuracy: 0.8373\n",
            "Epoch 5/25\n",
            "113/113 [==============================] - 1s 5ms/step - loss: 0.3908 - accuracy: 0.9133 - val_loss: 0.2797 - val_accuracy: 0.8698\n",
            "Epoch 6/25\n",
            "113/113 [==============================] - 1s 5ms/step - loss: 0.3547 - accuracy: 0.9259 - val_loss: 0.2311 - val_accuracy: 0.8905\n",
            "Epoch 7/25\n",
            "113/113 [==============================] - 1s 5ms/step - loss: 0.3309 - accuracy: 0.9244 - val_loss: 0.1710 - val_accuracy: 0.9349\n",
            "Epoch 8/25\n",
            "113/113 [==============================] - 1s 6ms/step - loss: 0.3002 - accuracy: 0.9378 - val_loss: 0.2633 - val_accuracy: 0.8787\n",
            "Epoch 9/25\n",
            "113/113 [==============================] - 1s 5ms/step - loss: 0.2794 - accuracy: 0.9415 - val_loss: 0.1817 - val_accuracy: 0.9112\n",
            "Epoch 10/25\n",
            "113/113 [==============================] - 1s 5ms/step - loss: 0.2609 - accuracy: 0.9430 - val_loss: 0.1607 - val_accuracy: 0.9320\n",
            "Epoch 11/25\n",
            "113/113 [==============================] - 1s 6ms/step - loss: 0.2500 - accuracy: 0.9504 - val_loss: 0.3260 - val_accuracy: 0.8284\n",
            "Epoch 12/25\n",
            "113/113 [==============================] - 1s 5ms/step - loss: 0.2346 - accuracy: 0.9415 - val_loss: 0.1842 - val_accuracy: 0.9112\n",
            "Epoch 13/25\n",
            "113/113 [==============================] - 1s 5ms/step - loss: 0.2189 - accuracy: 0.9481 - val_loss: 0.1555 - val_accuracy: 0.9290\n",
            "Epoch 14/25\n",
            "113/113 [==============================] - 1s 5ms/step - loss: 0.2058 - accuracy: 0.9504 - val_loss: 0.1755 - val_accuracy: 0.9142\n",
            "Epoch 15/25\n",
            "113/113 [==============================] - 1s 5ms/step - loss: 0.1921 - accuracy: 0.9526 - val_loss: 0.1632 - val_accuracy: 0.9201\n",
            "Epoch 16/25\n",
            "113/113 [==============================] - 1s 5ms/step - loss: 0.1880 - accuracy: 0.9489 - val_loss: 0.2117 - val_accuracy: 0.9083\n",
            "Epoch 17/25\n",
            "113/113 [==============================] - 1s 5ms/step - loss: 0.1761 - accuracy: 0.9504 - val_loss: 0.1724 - val_accuracy: 0.9201\n",
            "Epoch 18/25\n",
            "113/113 [==============================] - 1s 5ms/step - loss: 0.1659 - accuracy: 0.9570 - val_loss: 0.1717 - val_accuracy: 0.9260\n",
            "Epoch 19/25\n",
            "113/113 [==============================] - 1s 5ms/step - loss: 0.1600 - accuracy: 0.9585 - val_loss: 0.1659 - val_accuracy: 0.9290\n",
            "Epoch 20/25\n",
            "113/113 [==============================] - 1s 5ms/step - loss: 0.1480 - accuracy: 0.9652 - val_loss: 0.2200 - val_accuracy: 0.8905\n",
            "Epoch 21/25\n",
            "113/113 [==============================] - 1s 5ms/step - loss: 0.1443 - accuracy: 0.9600 - val_loss: 0.2220 - val_accuracy: 0.8964\n",
            "Epoch 22/25\n",
            "113/113 [==============================] - 1s 5ms/step - loss: 0.1412 - accuracy: 0.9644 - val_loss: 0.2204 - val_accuracy: 0.9024\n",
            "Epoch 23/25\n",
            "113/113 [==============================] - 1s 5ms/step - loss: 0.1339 - accuracy: 0.9630 - val_loss: 0.2160 - val_accuracy: 0.9024\n",
            "Epoch 24/25\n",
            "113/113 [==============================] - 1s 5ms/step - loss: 0.1275 - accuracy: 0.9637 - val_loss: 0.1901 - val_accuracy: 0.9201\n",
            "Epoch 25/25\n",
            "113/113 [==============================] - 1s 5ms/step - loss: 0.1238 - accuracy: 0.9637 - val_loss: 0.1504 - val_accuracy: 0.9290\n"
          ]
        }
      ],
      "source": [
        "history = model.fit(X_train, y_train, validation_split=0.2, epochs = 25, batch_size = 12, verbose = 1, shuffle = 1)"
      ]
    },
    {
      "cell_type": "code",
      "execution_count": 79,
      "metadata": {
        "colab": {
          "base_uri": "https://localhost:8080/",
          "height": 312
        },
        "id": "k7CnAqmF1GfW",
        "outputId": "1e7f7649-2d04-40c0-b0f1-b78804835831"
      },
      "outputs": [
        {
          "data": {
            "text/plain": [
              "Text(0.5, 0, 'epoch')"
            ]
          },
          "execution_count": 79,
          "metadata": {},
          "output_type": "execute_result"
        },
        {
          "data": {
            "image/png": "[encoded data removed]",
            "text/plain": [
              "<Figure size 432x288 with 1 Axes>"
            ]
          },
          "metadata": {
            "needs_background": "light"
          },
          "output_type": "display_data"
        }
      ],
      "source": [
        "plt.plot(history.history['loss'])\n",
        "plt.plot(history.history['val_loss'])\n",
        "plt.legend(['training', 'validation'])\n",
        "plt.title('Loss')\n",
        "plt.xlabel('epoch')"
      ]
    },
    {
      "cell_type": "code",
      "execution_count": 80,
      "metadata": {
        "colab": {
          "base_uri": "https://localhost:8080/",
          "height": 312
        },
        "id": "syzNqsj11H_w",
        "outputId": "5e1a9e2d-8a20-4d74-fd8f-86c039c59926"
      },
      "outputs": [
        {
          "data": {
            "text/plain": [
              "Text(0.5, 0, 'epoch')"
            ]
          },
          "execution_count": 80,
          "metadata": {},
          "output_type": "execute_result"
        },
        {
          "data": {
            "image/png": "[encoded data removed]",
            "text/plain": [
              "<Figure size 432x288 with 1 Axes>"
            ]
          },
          "metadata": {
            "needs_background": "light"
          },
          "output_type": "display_data"
        }
      ],
      "source": [
        "plt.plot(history.history['accuracy'])\n",
        "plt.plot(history.history['val_accuracy'])\n",
        "plt.legend(['training', 'validation'])\n",
        "plt.title('Accuracy')\n",
        "plt.xlabel('epoch')"
      ]
    },
    {
      "cell_type": "code",
      "execution_count": 82,
      "metadata": {
        "colab": {
          "base_uri": "https://localhost:8080/"
        },
        "id": "Z3s1y2wt4qn2",
        "outputId": "2aacdbe6-a131-43cf-9324-6964ed139895"
      },
      "outputs": [
        {
          "name": "stdout",
          "output_type": "stream",
          "text": [
            "14\n"
          ]
        }
      ],
      "source": [
        "weights = model.get_weights()"
      ]
    },
    {
      "cell_type": "code",
      "execution_count": 84,
      "metadata": {
        "colab": {
          "base_uri": "https://localhost:8080/"
        },
        "id": "--TZ50yM4t0f",
        "outputId": "a343831d-9311-4038-98b4-20cdb497990c"
      },
      "outputs": [
        {
          "name": "stdout",
          "output_type": "stream",
          "text": [
            "(120, 1)\n"
          ]
        }
      ],
      "source": [
        "Layer1_Conv2D_5x5 = np.asarray(weights[0][:,:])\n",
        "Bais_L1 = np.asarray(weights[1])\n",
        "Layer2_Conv2D_5x5 = np.asarray(weights[2][:])\n",
        "Bais_L2 = np.asarray(weights[3])\n",
        "Layer3_Conv2D_5x5 = np.asarray(weights[4][:,:])\n",
        "Bais_L3 = np.asarray(weights[5])\n",
        "Layer4_Conv2D_5x5 = np.asarray(weights[6][:])\n",
        "Bais_L4 = np.asarray(weights[7])\n",
        "Layer5_Conv2D_5x5 = np.asarray(weights[8][:,:])\n",
        "Bais_L5 = np.asarray(weights[9])\n",
        "#Flatten 30*3 to 90\n",
        "Layer7_Dense = np.asarray(weights[10])\n",
        "Bais_L7 = np.asarray(weights[11])\n",
        "Layer8_SoftMax = np.asarray(weights[12])\n",
        "Bais_L8 = np.asarray(weights[13])"
      ]
    },
    {
      "cell_type": "code",
      "execution_count": 85,
      "metadata": {
        "colab": {
          "base_uri": "https://localhost:8080/"
        },
        "id": "rpjRMl2b7zlW",
        "outputId": "cc066adb-e464-4f1d-95e8-f5cd0511dfc7"
      },
      "outputs": [
        {
          "name": "stdout",
          "output_type": "stream",
          "text": [
            "(3212,)\n",
            "(1,)\n"
          ]
        }
      ],
      "source": [
        "# Flatten Audio data for yes and no\n",
        "audiodata_yes = audiodata_yes.flatten()\n",
        "\n",
        "#Layer1 Conv2D layer weights\n",
        "L1K = Layer1_Conv2D_5x5[:,:,0,0].flatten()\n",
        "L2K = Layer2_Conv2D_5x5[:,:,0,0].flatten()\n",
        "L3K = Layer3_Conv2D_5x5[:,:,0,0].flatten()\n",
        "L4K = Layer4_Conv2D_5x5[:,:,0,0].flatten()\n",
        "L5K = Layer5_Conv2D_5x5[:,:,0,0].flatten()\n",
        "\n",
        "L7W = Layer7_Dense[:,:].flatten()\n",
        "L8W = Layer8_SoftMax[:,0].flatten()"
      ]
    },
    {
      "cell_type": "code",
      "execution_count": 86,
      "metadata": {
        "colab": {
          "base_uri": "https://localhost:8080/"
        },
        "id": "Js6udZmx9HjJ",
        "outputId": "8fc120e1-ae8e-468d-9251-fd1f4fa2817d"
      },
      "outputs": [
        {
          "name": "stdout",
          "output_type": "stream",
          "text": [
            "(253,)\n"
          ]
        }
      ],
      "source": [
        "temp1 = np.append(L1K, Bais_L1)\n",
        "temp2 = np.append(L2K, Bais_L2)\n",
        "temp3 = np.append(L3K, Bais_L3)\n",
        "temp4 = np.append(L4K, Bais_L4)\n",
        "temp5 = np.append(L5K, Bais_L5)\n",
        "temp7 = np.append(L7W, Bais_L7.flatten())\n",
        "temp8 = np.append(L8W, Bais_L8)\n",
        "\n",
        "\n",
        "temp12 = np.append(temp1, temp2)\n",
        "temp34 = np.append(temp3, temp4)\n",
        "temp57 = np.append(temp5, temp7)\n",
        "temp1234 = np.append(temp12, temp34)\n",
        "temp = np.append(temp1234, temp57)\n",
        "weights = np.append(temp, temp8)\n",
        "\n",
        "print(weights.shape)"
      ]
    },
    {
      "cell_type": "code",
      "execution_count": 88,
      "metadata": {
        "id": "Jq96PjRdMoEQ"
      },
      "outputs": [],
      "source": [
        "# Open weight and bias files for reading.\n",
        "f_handle = open('weights.bin','w')\n",
        "weights.tofile(f_handle,sep=\"\")"
      ]
    },
    {
      "cell_type": "code",
      "execution_count": 91,
      "metadata": {
        "id": "rocv_BgrRMad"
      },
      "outputs": [],
      "source": [
        "!rm -rf test_data_yes/\n",
        "!rm -rf test_data_no/"
      ]
    },
    {
      "cell_type": "code",
      "execution_count": 92,
      "metadata": {
        "id": "96RO3IQjQ-TH"
      },
      "outputs": [],
      "source": [
        "!mkdir test_data_yes/\n",
        "!mkdir test_data_no/"
      ]
    },
    {
      "cell_type": "code",
      "execution_count": 93,
      "metadata": {
        "id": "ZlkQF7uKRUU1"
      },
      "outputs": [],
      "source": [
        "for iter in range (50):\n",
        "  audiof_handle_yes = open('test_data_yes/' + 'data' + str(iter) + '.bin','w')\n",
        "  data_yes = test_data_yes[iter, :,:]\n",
        "  data_yes.tofile(audiof_handle_yes,sep=\"\")\n",
        "\n",
        "  audiof_handle_no = open('test_data_no/' + 'data' + str(iter) + '.bin','w')\n",
        "  data_no = test_data_no[iter, :,:]\n",
        "  data_no.tofile(audiof_handle_no,sep=\"\")\n"
      ]
    },
    {
      "cell_type": "code",
      "execution_count": 94,
      "metadata": {
        "colab": {
          "base_uri": "https://localhost:8080/"
        },
        "id": "iGOeHFN8S6up",
        "outputId": "2837af6f-6a38-400e-bb88-e06824743168"
      },
      "outputs": [
        {
          "name": "stdout",
          "output_type": "stream",
          "text": [
            "updating: test_data_yes/ (stored 0%)\n",
            "updating: test_data_yes/data29.bin (deflated 7%)\n",
            "updating: test_data_yes/data36.bin (deflated 7%)\n",
            "updating: test_data_yes/data43.bin (deflated 6%)\n",
            "updating: test_data_yes/data12.bin (deflated 7%)\n",
            "updating: test_data_yes/data35.bin (deflated 6%)\n",
            "updating: test_data_yes/data22.bin (deflated 7%)\n",
            "updating: test_data_yes/data40.bin (deflated 8%)\n",
            "updating: test_data_yes/data48.bin (deflated 8%)\n",
            "updating: test_data_yes/data3.bin (deflated 7%)\n",
            "updating: test_data_yes/data37.bin (deflated 8%)\n",
            "updating: test_data_yes/data33.bin (deflated 6%)\n",
            "updating: test_data_yes/data39.bin (deflated 7%)\n",
            "updating: test_data_yes/data18.bin (deflated 6%)\n",
            "updating: test_data_yes/data20.bin (deflated 7%)\n",
            "updating: test_data_yes/data4.bin (deflated 8%)\n",
            "updating: test_data_yes/data34.bin (deflated 7%)\n",
            "updating: test_data_yes/data10.bin (deflated 7%)\n",
            "updating: test_data_yes/data41.bin (deflated 8%)\n",
            "updating: test_data_yes/data24.bin (deflated 7%)\n",
            "updating: test_data_yes/data2.bin (deflated 9%)\n",
            "updating: test_data_yes/data26.bin (deflated 6%)\n",
            "updating: test_data_yes/data25.bin (deflated 7%)\n",
            "updating: test_data_yes/data32.bin (deflated 8%)\n",
            "updating: test_data_yes/data15.bin (deflated 6%)\n",
            "updating: test_data_yes/data6.bin (deflated 7%)\n",
            "updating: test_data_yes/data11.bin (deflated 7%)\n",
            "updating: test_data_yes/data17.bin (deflated 7%)\n",
            "updating: test_data_yes/data31.bin (deflated 6%)\n",
            "updating: test_data_yes/data46.bin (deflated 7%)\n",
            "updating: test_data_yes/data30.bin (deflated 6%)\n",
            "updating: test_data_yes/data21.bin (deflated 7%)\n",
            "updating: test_data_yes/data19.bin (deflated 7%)\n",
            "updating: test_data_yes/data8.bin (deflated 7%)\n",
            "updating: test_data_yes/data16.bin (deflated 7%)\n",
            "updating: test_data_yes/data23.bin (deflated 7%)\n",
            "updating: test_data_yes/data9.bin (deflated 8%)\n",
            "updating: test_data_yes/data44.bin (deflated 7%)\n",
            "updating: test_data_yes/data13.bin (deflated 6%)\n",
            "updating: test_data_yes/data14.bin (deflated 6%)\n",
            "updating: test_data_yes/data38.bin (deflated 7%)\n",
            "updating: test_data_yes/data7.bin (deflated 6%)\n",
            "updating: test_data_yes/data47.bin (deflated 10%)\n",
            "updating: test_data_yes/data45.bin (deflated 9%)\n",
            "updating: test_data_yes/data42.bin (deflated 8%)\n",
            "updating: test_data_yes/data5.bin (deflated 7%)\n",
            "updating: test_data_yes/data27.bin (deflated 7%)\n",
            "updating: test_data_yes/data28.bin (deflated 7%)\n",
            "updating: test_data_yes/data49.bin (deflated 7%)\n",
            "updating: test_data_yes/data0.bin (deflated 7%)\n",
            "updating: test_data_yes/data1.bin (deflated 7%)\n",
            "updating: test_data_no/ (stored 0%)\n",
            "updating: test_data_no/data29.bin (deflated 7%)\n",
            "updating: test_data_no/data36.bin (deflated 8%)\n",
            "updating: test_data_no/data43.bin (deflated 9%)\n",
            "updating: test_data_no/data12.bin (deflated 8%)\n",
            "updating: test_data_no/data35.bin (deflated 8%)\n",
            "updating: test_data_no/data22.bin (deflated 8%)\n",
            "updating: test_data_no/data40.bin (deflated 7%)\n",
            "updating: test_data_no/data48.bin (deflated 8%)\n",
            "updating: test_data_no/data3.bin (deflated 7%)\n",
            "updating: test_data_no/data37.bin (deflated 7%)\n",
            "updating: test_data_no/data33.bin (deflated 6%)\n",
            "updating: test_data_no/data39.bin (deflated 7%)\n",
            "updating: test_data_no/data18.bin (deflated 7%)\n",
            "updating: test_data_no/data20.bin (deflated 7%)\n",
            "updating: test_data_no/data4.bin (deflated 8%)\n",
            "updating: test_data_no/data34.bin (deflated 9%)\n",
            "updating: test_data_no/data10.bin (deflated 9%)\n",
            "updating: test_data_no/data41.bin (deflated 9%)\n",
            "updating: test_data_no/data24.bin (deflated 8%)\n",
            "updating: test_data_no/data2.bin (deflated 8%)\n",
            "updating: test_data_no/data26.bin (deflated 7%)\n",
            "updating: test_data_no/data25.bin (deflated 7%)\n",
            "updating: test_data_no/data32.bin (deflated 7%)\n",
            "updating: test_data_no/data15.bin (deflated 7%)\n",
            "updating: test_data_no/data6.bin (deflated 7%)\n",
            "updating: test_data_no/data11.bin (deflated 7%)\n",
            "updating: test_data_no/data17.bin (deflated 7%)\n",
            "updating: test_data_no/data31.bin (deflated 7%)\n",
            "updating: test_data_no/data46.bin (deflated 8%)\n",
            "updating: test_data_no/data30.bin (deflated 7%)\n",
            "updating: test_data_no/data21.bin (deflated 8%)\n",
            "updating: test_data_no/data19.bin (deflated 8%)\n",
            "updating: test_data_no/data8.bin (deflated 8%)\n",
            "updating: test_data_no/data16.bin (deflated 6%)\n",
            "updating: test_data_no/data23.bin (deflated 7%)\n",
            "updating: test_data_no/data9.bin (deflated 7%)\n",
            "updating: test_data_no/data44.bin (deflated 8%)\n",
            "updating: test_data_no/data13.bin (deflated 7%)\n",
            "updating: test_data_no/data14.bin (deflated 7%)\n",
            "updating: test_data_no/data38.bin (deflated 7%)\n",
            "updating: test_data_no/data7.bin (deflated 8%)\n",
            "updating: test_data_no/data47.bin (deflated 8%)\n",
            "updating: test_data_no/data45.bin (deflated 6%)\n",
            "updating: test_data_no/data42.bin (deflated 7%)\n",
            "updating: test_data_no/data5.bin (deflated 8%)\n",
            "updating: test_data_no/data27.bin (deflated 7%)\n",
            "updating: test_data_no/data28.bin (deflated 8%)\n",
            "updating: test_data_no/data49.bin (deflated 8%)\n",
            "updating: test_data_no/data0.bin (deflated 6%)\n",
            "updating: test_data_no/data1.bin (deflated 7%)\n"
          ]
        }
      ],
      "source": [
        "!zip -r test_data_yes.zip test_data_yes/\n",
        "!zip -r test_data_no.zip test_data_no/"
      ]
    },
    {
      "cell_type": "code",
      "execution_count": 96,
      "metadata": {
        "colab": {
          "base_uri": "https://localhost:8080/"
        },
        "id": "kbi8vipnGrr_",
        "outputId": "ec3b38f5-5903-48f4-df9f-0621f65f050c"
      },
      "outputs": [
        {
          "name": "stdout",
          "output_type": "stream",
          "text": [
            "50\n",
            "Predicted Audio: NO with accuracy:[71.65349]\n",
            "Wrong\n",
            "Predicted Audio: NO with accuracy:[54.55623]\n",
            "Wrong\n",
            "Predicted Audio: NO with accuracy:[67.74868]\n",
            "Wrong\n",
            "Predicted Audio: NO with accuracy:[55.335533]\n",
            "Wrong\n",
            "Predicted Audio: NO with accuracy:[73.219894]\n",
            "Wrong\n"
          ]
        }
      ],
      "source": [
        "results = model.predict(test_data_yes)\n",
        "print(len(results))\n",
        "for i in range (len(results)):\n",
        "  if(results[i] < 0.5):\n",
        "    print(\"Predicted Audio: NO with accuracy:\"+str((1-results[i]) * 100))\n",
        "    print(\"Wrong\")"
      ]
    },
    {
      "cell_type": "code",
      "execution_count": 97,
      "metadata": {
        "colab": {
          "base_uri": "https://localhost:8080/"
        },
        "id": "VRqH_XMJLZt5",
        "outputId": "8cd2725b-2b5d-4ed3-d29d-c9b40fc4860c"
      },
      "outputs": [
        {
          "name": "stdout",
          "output_type": "stream",
          "text": [
            "[[0.93165016]\n",
            " [0.93180573]\n",
            " [0.9318055 ]\n",
            " [0.93180573]\n",
            " [0.93180543]\n",
            " [0.93141896]\n",
            " [0.93176514]\n",
            " [0.28346512]\n",
            " [0.7465985 ]\n",
            " [0.75999516]\n",
            " [0.93180573]\n",
            " [0.93180573]\n",
            " [0.93180573]\n",
            " [0.9317488 ]\n",
            " [0.93160796]\n",
            " [0.9318056 ]\n",
            " [0.931462  ]\n",
            " [0.9317497 ]\n",
            " [0.93180573]\n",
            " [0.93180573]\n",
            " [0.93180573]\n",
            " [0.8350696 ]\n",
            " [0.93180573]\n",
            " [0.93129385]\n",
            " [0.93180573]\n",
            " [0.9316501 ]\n",
            " [0.93180573]\n",
            " [0.9317937 ]\n",
            " [0.9293186 ]\n",
            " [0.93175864]\n",
            " [0.93180573]\n",
            " [0.9318056 ]\n",
            " [0.93180573]\n",
            " [0.93180573]\n",
            " [0.9318056 ]\n",
            " [0.93180573]\n",
            " [0.93180573]\n",
            " [0.9318019 ]\n",
            " [0.9297834 ]\n",
            " [0.45443773]\n",
            " [0.9317848 ]\n",
            " [0.32251322]\n",
            " [0.9318055 ]\n",
            " [0.93180573]\n",
            " [0.93180573]\n",
            " [0.44664463]\n",
            " [0.9318055 ]\n",
            " [0.51942563]\n",
            " [0.26780102]\n",
            " [0.73958844]]\n"
          ]
        }
      ],
      "source": [
        "print(results)"
      ]
    },
    {
      "cell_type": "code",
      "execution_count": 98,
      "metadata": {
        "colab": {
          "base_uri": "https://localhost:8080/"
        },
        "id": "SBN5jkuTKdlf",
        "outputId": "79b2702a-a5a6-4c00-df63-3c57c76878c0"
      },
      "outputs": [
        {
          "name": "stdout",
          "output_type": "stream",
          "text": [
            "50\n",
            "Predicted Audio: YES with accuracy:[80.6185]\n",
            "Wrong\n",
            "Predicted Audio: YES with accuracy:[59.177486]\n",
            "Wrong\n",
            "Predicted Audio: YES with accuracy:[88.2534]\n",
            "Wrong\n",
            "Predicted Audio: YES with accuracy:[92.23678]\n",
            "Wrong\n",
            "Predicted Audio: YES with accuracy:[67.21678]\n",
            "Wrong\n"
          ]
        }
      ],
      "source": [
        "results = model.predict(test_data_no)\n",
        "print(len(results))\n",
        "for i in range (len(results)):\n",
        "  if(results[i] > 0.5):\n",
        "    print(\"Predicted Audio: YES with accuracy:\"+str(results[i] * 100))\n",
        "    print(\"Wrong\")"
      ]
    },
    {
      "cell_type": "code",
      "execution_count": 99,
      "metadata": {
        "colab": {
          "base_uri": "https://localhost:8080/"
        },
        "id": "x3dl-Ap9Lcqu",
        "outputId": "689b0466-bfb9-4983-c422-15d704c1356c"
      },
      "outputs": [
        {
          "name": "stdout",
          "output_type": "stream",
          "text": [
            "[[3.40024385e-21]\n",
            " [4.20584438e-05]\n",
            " [1.64905967e-09]\n",
            " [9.57539513e-16]\n",
            " [1.48018571e-02]\n",
            " [1.33699737e-03]\n",
            " [1.96932306e-04]\n",
            " [1.07544649e-04]\n",
            " [9.83660226e-04]\n",
            " [6.03410532e-04]\n",
            " [1.97364925e-03]\n",
            " [6.88173486e-07]\n",
            " [2.14921965e-04]\n",
            " [5.94621636e-02]\n",
            " [7.31725891e-07]\n",
            " [8.70426886e-13]\n",
            " [8.06185007e-01]\n",
            " [1.72279857e-03]\n",
            " [5.33573775e-11]\n",
            " [2.10554950e-04]\n",
            " [2.56591146e-12]\n",
            " [7.12987676e-04]\n",
            " [9.53592871e-10]\n",
            " [4.38358017e-10]\n",
            " [7.14648934e-03]\n",
            " [5.91774881e-01]\n",
            " [6.09682029e-05]\n",
            " [3.92519355e-01]\n",
            " [8.82534027e-01]\n",
            " [5.04789234e-04]\n",
            " [1.77286584e-02]\n",
            " [1.52982480e-04]\n",
            " [7.03716604e-03]\n",
            " [7.64146680e-05]\n",
            " [1.17240241e-02]\n",
            " [7.86819961e-03]\n",
            " [7.89055079e-02]\n",
            " [1.92137156e-03]\n",
            " [7.62463510e-02]\n",
            " [1.59345969e-16]\n",
            " [9.22367811e-01]\n",
            " [2.23747207e-04]\n",
            " [3.70660494e-03]\n",
            " [6.72167778e-01]\n",
            " [1.47853825e-05]\n",
            " [4.42985648e-11]\n",
            " [2.90215686e-02]\n",
            " [1.37691381e-06]\n",
            " [3.17274607e-09]\n",
            " [2.56849395e-04]]\n"
          ]
        }
      ],
      "source": [
        "print(results)"
      ]
    },
    {
      "cell_type": "code",
      "execution_count": 101,
      "metadata": {
        "id": "CK-LQrP9gh67"
      },
      "outputs": [],
      "source": [
        "model.save('audioclassifier.h5')"
      ]
    }
  ],
  "metadata": {
    "accelerator": "GPU",
    "colab": {
      "collapsed_sections": [],
      "name": "Audio_ClassifierwithAugmentedData.ipynb",
      "provenance": []
    },
    "gpuClass": "standard",
    "kernelspec": {
      "display_name": "Python 3.9.2 64-bit",
      "language": "python",
      "name": "python3"
    },
    "language_info": {
      "name": "python",
      "version": "3.9.2"
    },
    "vscode": {
      "interpreter": {
        "hash": "25034407fed5d681614dac11a1c0537e8cb49e3a8883c071303eea01322943d9"
      }
    }
  },
  "nbformat": 4,
  "nbformat_minor": 0
}
